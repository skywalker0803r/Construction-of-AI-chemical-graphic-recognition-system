{
 "cells": [
  {
   "cell_type": "code",
   "execution_count": 11,
   "metadata": {},
   "outputs": [],
   "source": [
    "import pdfplumber  #引入模塊\n",
    "import os\n",
    "\n",
    "def pdf2txt(file):\n",
    "    pdfob = pdfplumber.open(file)  #用模塊開啟要轉換的PDF檔\n",
    "    pgnum = len(pdfob.pages)\n",
    "    textfile = open('../output/'+file.split('/')[-1].split('.')[0]+'.txt', 'w')  #指定並開啟一個純文字檔\n",
    "    for pg in range(pgnum):  \n",
    "        page = pdfob.pages[pg] #每次呼叫一頁\n",
    "        text = page.extract_text() #擷取純文字       \n",
    "        textfile.write(text) #寫入純文字檔\n",
    "    pdfob.close()\n",
    "    textfile.close()"
   ]
  },
  {
   "cell_type": "code",
   "execution_count": 13,
   "metadata": {},
   "outputs": [
    {
     "name": "stdout",
     "output_type": "stream",
     "text": [
      "轉檔錯誤: ../data/10-GHS_SDS_氫氧化鈉.pdf\n",
      "轉檔錯誤: ../data/16-GHS_SDS_清罐劑(HP5406).pdf\n",
      "轉檔錯誤: ../data/17-GHS_SDS_脫氧劑(EliminOX).pdf\n",
      "轉檔錯誤: ../data/18-GHS_SDS_次氯酸鈉(漂白水)1101101-R.pdf\n",
      "轉檔錯誤: ../data/21-GHS_SDS_ 除銅劑_重金屬捕捉劑(MC-3025).pdf\n",
      "轉檔錯誤: ../data/22-GHS_SDS_高分子凝聚劑(POLYACRYLAMIDE)(K-705).pdf\n",
      "轉檔錯誤: ../data/25-GHS_SDS_燃料油添加劑(CYS-FA160).pdf\n",
      "轉檔錯誤: ../data/7-GHS_SDS_氯氣(109.06.09).pdf\n"
     ]
    }
   ],
   "source": [
    "\n",
    "root = '../data/'\n",
    "file_list = [ root + i for i in os.listdir(root)]\n",
    "for file in file_list:\n",
    "    try:\n",
    "        pdf2txt(file)\n",
    "    except:\n",
    "        print('轉檔錯誤:',file)"
   ]
  },
  {
   "cell_type": "code",
   "execution_count": null,
   "metadata": {},
   "outputs": [],
   "source": []
  }
 ],
 "metadata": {
  "interpreter": {
   "hash": "2ccee5cc862501c1aad1cf19888c2a2eca4026b72d187db43d5e889cbdc6ee97"
  },
  "kernelspec": {
   "display_name": "Python 3.8.5 ('base')",
   "language": "python",
   "name": "python3"
  },
  "language_info": {
   "codemirror_mode": {
    "name": "ipython",
    "version": 3
   },
   "file_extension": ".py",
   "mimetype": "text/x-python",
   "name": "python",
   "nbconvert_exporter": "python",
   "pygments_lexer": "ipython3",
   "version": "3.8.5"
  },
  "orig_nbformat": 4
 },
 "nbformat": 4,
 "nbformat_minor": 2
}
