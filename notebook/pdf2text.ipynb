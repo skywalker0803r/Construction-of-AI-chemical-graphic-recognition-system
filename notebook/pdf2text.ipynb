{
 "cells": [
  {
   "cell_type": "code",
   "execution_count": 4,
   "metadata": {},
   "outputs": [],
   "source": [
    "import requests\n",
    "url = 'https://gist.githubusercontent.com/skywalker0803r/64d9b3f21d91a819d1827f6e8073c8bf/raw/f387283fb6d2f720e4bcd22c42cfcb5029457afc/pdf2txt.py'\n",
    "exec(requests.get(url).text)\n",
    "root = '../data/'\n",
    "file_list = [ root + i for i in os.listdir(root)]\n",
    "for file in file_list:\n",
    "    try:\n",
    "        pdf2txt(file)\n",
    "    except:\n",
    "        print('轉檔錯誤:',file)"
   ]
  },
  {
   "cell_type": "code",
   "execution_count": 3,
   "metadata": {},
   "outputs": [],
   "source": []
  },
  {
   "cell_type": "code",
   "execution_count": null,
   "metadata": {},
   "outputs": [],
   "source": []
  }
 ],
 "metadata": {
  "interpreter": {
   "hash": "2ccee5cc862501c1aad1cf19888c2a2eca4026b72d187db43d5e889cbdc6ee97"
  },
  "kernelspec": {
   "display_name": "Python 3.8.5 ('base')",
   "language": "python",
   "name": "python3"
  },
  "language_info": {
   "codemirror_mode": {
    "name": "ipython",
    "version": 3
   },
   "file_extension": ".py",
   "mimetype": "text/x-python",
   "name": "python",
   "nbconvert_exporter": "python",
   "pygments_lexer": "ipython3",
   "version": "3.8.5"
  },
  "orig_nbformat": 4
 },
 "nbformat": 4,
 "nbformat_minor": 2
}
